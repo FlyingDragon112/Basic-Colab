{
  "nbformat": 4,
  "nbformat_minor": 0,
  "metadata": {
    "colab": {
      "provenance": []
    },
    "kernelspec": {
      "name": "python3",
      "display_name": "Python 3"
    },
    "language_info": {
      "name": "python"
    }
  },
  "cells": [
    {
      "cell_type": "markdown",
      "source": [
        "# Data Science Tools and Ecosystem"
      ],
      "metadata": {
        "id": "B3_-qJjYh-zZ"
      }
    },
    {
      "cell_type": "markdown",
      "source": [
        "### In this notebook, Data Science Tools and Ecosystem are summarized."
      ],
      "metadata": {
        "id": "RMRtmZ6ciy6D"
      }
    },
    {
      "cell_type": "markdown",
      "source": [
        "# **Objectives :**\n",
        "* Popular Languages\n",
        "* Commonly used libraries\n",
        "* Various Data Science Tools\n",
        "* Arthmetic Expressions"
      ],
      "metadata": {
        "id": "cQWfzr6-mmCz"
      }
    },
    {
      "cell_type": "markdown",
      "source": [
        "# Some of the popular languages that Data Scientists use are:\n",
        "1. Python\n",
        "2. Sql\n",
        "3. R"
      ],
      "metadata": {
        "id": "TVw62QAwjG1l"
      }
    },
    {
      "cell_type": "markdown",
      "source": [
        "# Some of the commonly used libraries used by Data Scientists include:\n",
        "1. Numpy\n",
        "2. Pandas\n",
        "3. Scikit-learn"
      ],
      "metadata": {
        "id": "4exsD8WVjdFW"
      }
    },
    {
      "cell_type": "markdown",
      "source": [
        "Data Science Tools|\n",
        "---|\n",
        "Jupyter|\n",
        "Scikit-learn|\n",
        "Apache Spark|\n"
      ],
      "metadata": {
        "id": "UVGmfpFNkHUX"
      }
    },
    {
      "cell_type": "markdown",
      "source": [
        "###  Below are a few examples of evaluating arithmetic expressions in Python"
      ],
      "metadata": {
        "id": "uWeqFuuGk5qc"
      }
    },
    {
      "cell_type": "code",
      "source": [
        "(3*4)+5"
      ],
      "metadata": {
        "colab": {
          "base_uri": "https://localhost:8080/"
        },
        "id": "JHEyQ_QglN7j",
        "outputId": "759bd133-6133-4a91-d384-9f111048f9a6"
      },
      "execution_count": 2,
      "outputs": [
        {
          "output_type": "execute_result",
          "data": {
            "text/plain": [
              "17"
            ]
          },
          "metadata": {},
          "execution_count": 2
        }
      ]
    },
    {
      "cell_type": "code",
      "source": [
        "print(\"200 minutes in hours is\",200/60)"
      ],
      "metadata": {
        "colab": {
          "base_uri": "https://localhost:8080/"
        },
        "id": "UgqA3aqMlY39",
        "outputId": "d4705737-1d4a-46ae-e8f8-0829c233d041"
      },
      "execution_count": 3,
      "outputs": [
        {
          "output_type": "stream",
          "name": "stdout",
          "text": [
            "200 minutes in hours is 3.3333333333333335\n"
          ]
        }
      ]
    },
    {
      "cell_type": "markdown",
      "source": [
        "## Author\n",
        "Arnav Agarwal"
      ],
      "metadata": {
        "id": "SSHRLELJnV3V"
      }
    }
  ]
}